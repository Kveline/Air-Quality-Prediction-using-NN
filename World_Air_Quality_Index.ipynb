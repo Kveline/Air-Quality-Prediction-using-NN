{
  "nbformat": 4,
  "nbformat_minor": 0,
  "metadata": {
    "colab": {
      "provenance": []
    },
    "kernelspec": {
      "name": "python3",
      "display_name": "Python 3"
    },
    "language_info": {
      "name": "python"
    }
  },
  "cells": [
    {
      "cell_type": "markdown",
      "source": [
        "## Preprocessing Data\n",
        "[World Air Quality Index by City and Coordinates Dataset](https://www.kaggle.com/datasets/adityaramachandran27/world-air-quality-index-by-city-and-coordinates/code)"
      ],
      "metadata": {
        "id": "L4xk4UsgGmiv"
      }
    },
    {
      "cell_type": "code",
      "execution_count": null,
      "metadata": {
        "id": "MaMJtv3BFKG6"
      },
      "outputs": [],
      "source": [
        "import pandas as pd\n",
        "import matplotlib.pyplot as plt\n",
        "import tensorflow as tf\n",
        "\n",
        "# read data\n",
        "data = pd.read_csv(\"/content/AQI and Lat Long of Countries.csv\")\n",
        "\n",
        "# drop AQI value\n",
        "data = data.drop(\"AQI Value\", axis = 1)"
      ]
    },
    {
      "cell_type": "code",
      "source": [
        "data.head()"
      ],
      "metadata": {
        "colab": {
          "base_uri": "https://localhost:8080/",
          "height": 206
        },
        "id": "hT85QxjMHBWS",
        "outputId": "d3aaac69-2d0c-4277-d9b4-d2dd4e610d8f"
      },
      "execution_count": null,
      "outputs": [
        {
          "output_type": "execute_result",
          "data": {
            "text/plain": [
              "              Country AQI Category      lat      lng\n",
              "0  Russian Federation     Moderate  44.7444  44.2031\n",
              "1              Brazil         Good  -5.2900 -44.4900\n",
              "2              Brazil         Good -11.2958 -41.9869\n",
              "3               Italy     Moderate  37.1667  15.1833\n",
              "4              Poland         Good  53.0167  20.8833"
            ],
            "text/html": [
              "\n",
              "  <div id=\"df-1d9a24f1-529b-4d64-b445-0c04dfa893d2\">\n",
              "    <div class=\"colab-df-container\">\n",
              "      <div>\n",
              "<style scoped>\n",
              "    .dataframe tbody tr th:only-of-type {\n",
              "        vertical-align: middle;\n",
              "    }\n",
              "\n",
              "    .dataframe tbody tr th {\n",
              "        vertical-align: top;\n",
              "    }\n",
              "\n",
              "    .dataframe thead th {\n",
              "        text-align: right;\n",
              "    }\n",
              "</style>\n",
              "<table border=\"1\" class=\"dataframe\">\n",
              "  <thead>\n",
              "    <tr style=\"text-align: right;\">\n",
              "      <th></th>\n",
              "      <th>Country</th>\n",
              "      <th>AQI Category</th>\n",
              "      <th>lat</th>\n",
              "      <th>lng</th>\n",
              "    </tr>\n",
              "  </thead>\n",
              "  <tbody>\n",
              "    <tr>\n",
              "      <th>0</th>\n",
              "      <td>Russian Federation</td>\n",
              "      <td>Moderate</td>\n",
              "      <td>44.7444</td>\n",
              "      <td>44.2031</td>\n",
              "    </tr>\n",
              "    <tr>\n",
              "      <th>1</th>\n",
              "      <td>Brazil</td>\n",
              "      <td>Good</td>\n",
              "      <td>-5.2900</td>\n",
              "      <td>-44.4900</td>\n",
              "    </tr>\n",
              "    <tr>\n",
              "      <th>2</th>\n",
              "      <td>Brazil</td>\n",
              "      <td>Good</td>\n",
              "      <td>-11.2958</td>\n",
              "      <td>-41.9869</td>\n",
              "    </tr>\n",
              "    <tr>\n",
              "      <th>3</th>\n",
              "      <td>Italy</td>\n",
              "      <td>Moderate</td>\n",
              "      <td>37.1667</td>\n",
              "      <td>15.1833</td>\n",
              "    </tr>\n",
              "    <tr>\n",
              "      <th>4</th>\n",
              "      <td>Poland</td>\n",
              "      <td>Good</td>\n",
              "      <td>53.0167</td>\n",
              "      <td>20.8833</td>\n",
              "    </tr>\n",
              "  </tbody>\n",
              "</table>\n",
              "</div>\n",
              "      <button class=\"colab-df-convert\" onclick=\"convertToInteractive('df-1d9a24f1-529b-4d64-b445-0c04dfa893d2')\"\n",
              "              title=\"Convert this dataframe to an interactive table.\"\n",
              "              style=\"display:none;\">\n",
              "        \n",
              "  <svg xmlns=\"http://www.w3.org/2000/svg\" height=\"24px\"viewBox=\"0 0 24 24\"\n",
              "       width=\"24px\">\n",
              "    <path d=\"M0 0h24v24H0V0z\" fill=\"none\"/>\n",
              "    <path d=\"M18.56 5.44l.94 2.06.94-2.06 2.06-.94-2.06-.94-.94-2.06-.94 2.06-2.06.94zm-11 1L8.5 8.5l.94-2.06 2.06-.94-2.06-.94L8.5 2.5l-.94 2.06-2.06.94zm10 10l.94 2.06.94-2.06 2.06-.94-2.06-.94-.94-2.06-.94 2.06-2.06.94z\"/><path d=\"M17.41 7.96l-1.37-1.37c-.4-.4-.92-.59-1.43-.59-.52 0-1.04.2-1.43.59L10.3 9.45l-7.72 7.72c-.78.78-.78 2.05 0 2.83L4 21.41c.39.39.9.59 1.41.59.51 0 1.02-.2 1.41-.59l7.78-7.78 2.81-2.81c.8-.78.8-2.07 0-2.86zM5.41 20L4 18.59l7.72-7.72 1.47 1.35L5.41 20z\"/>\n",
              "  </svg>\n",
              "      </button>\n",
              "      \n",
              "  <style>\n",
              "    .colab-df-container {\n",
              "      display:flex;\n",
              "      flex-wrap:wrap;\n",
              "      gap: 12px;\n",
              "    }\n",
              "\n",
              "    .colab-df-convert {\n",
              "      background-color: #E8F0FE;\n",
              "      border: none;\n",
              "      border-radius: 50%;\n",
              "      cursor: pointer;\n",
              "      display: none;\n",
              "      fill: #1967D2;\n",
              "      height: 32px;\n",
              "      padding: 0 0 0 0;\n",
              "      width: 32px;\n",
              "    }\n",
              "\n",
              "    .colab-df-convert:hover {\n",
              "      background-color: #E2EBFA;\n",
              "      box-shadow: 0px 1px 2px rgba(60, 64, 67, 0.3), 0px 1px 3px 1px rgba(60, 64, 67, 0.15);\n",
              "      fill: #174EA6;\n",
              "    }\n",
              "\n",
              "    [theme=dark] .colab-df-convert {\n",
              "      background-color: #3B4455;\n",
              "      fill: #D2E3FC;\n",
              "    }\n",
              "\n",
              "    [theme=dark] .colab-df-convert:hover {\n",
              "      background-color: #434B5C;\n",
              "      box-shadow: 0px 1px 3px 1px rgba(0, 0, 0, 0.15);\n",
              "      filter: drop-shadow(0px 1px 2px rgba(0, 0, 0, 0.3));\n",
              "      fill: #FFFFFF;\n",
              "    }\n",
              "  </style>\n",
              "\n",
              "      <script>\n",
              "        const buttonEl =\n",
              "          document.querySelector('#df-1d9a24f1-529b-4d64-b445-0c04dfa893d2 button.colab-df-convert');\n",
              "        buttonEl.style.display =\n",
              "          google.colab.kernel.accessAllowed ? 'block' : 'none';\n",
              "\n",
              "        async function convertToInteractive(key) {\n",
              "          const element = document.querySelector('#df-1d9a24f1-529b-4d64-b445-0c04dfa893d2');\n",
              "          const dataTable =\n",
              "            await google.colab.kernel.invokeFunction('convertToInteractive',\n",
              "                                                     [key], {});\n",
              "          if (!dataTable) return;\n",
              "\n",
              "          const docLinkHtml = 'Like what you see? Visit the ' +\n",
              "            '<a target=\"_blank\" href=https://colab.research.google.com/notebooks/data_table.ipynb>data table notebook</a>'\n",
              "            + ' to learn more about interactive tables.';\n",
              "          element.innerHTML = '';\n",
              "          dataTable['output_type'] = 'display_data';\n",
              "          await google.colab.output.renderOutput(dataTable, element);\n",
              "          const docLink = document.createElement('div');\n",
              "          docLink.innerHTML = docLinkHtml;\n",
              "          element.appendChild(docLink);\n",
              "        }\n",
              "      </script>\n",
              "    </div>\n",
              "  </div>\n",
              "  "
            ]
          },
          "metadata": {},
          "execution_count": 123
        }
      ]
    },
    {
      "cell_type": "code",
      "source": [
        "import numpy as np\n",
        "from sklearn.compose import make_column_transformer\n",
        "from sklearn.preprocessing import MinMaxScaler, OneHotEncoder\n",
        "from sklearn.model_selection import train_test_split\n",
        "\n",
        "ct = make_column_transformer(\n",
        "    (MinMaxScaler(), [\"lat\", \"lng\"]),\n",
        "    (OneHotEncoder(handle_unknown = \"ignore\", sparse = False), [\"Country\"])\n",
        ")\n",
        "\n",
        "ct_y = OneHotEncoder(categories='auto')"
      ],
      "metadata": {
        "id": "9m2gHP83HQN_"
      },
      "execution_count": null,
      "outputs": []
    },
    {
      "cell_type": "code",
      "source": [
        "# create x and y value\n",
        "X = data.drop(\"AQI Category\", axis = 1)\n",
        "y = data[\"AQI Category\"]"
      ],
      "metadata": {
        "id": "9a52V2CNJUOG"
      },
      "execution_count": null,
      "outputs": []
    },
    {
      "cell_type": "code",
      "source": [
        "X, y"
      ],
      "metadata": {
        "colab": {
          "base_uri": "https://localhost:8080/"
        },
        "id": "I1eKx7xBJfrb",
        "outputId": "216adabc-0164-47bd-a27b-3af4d8c51257"
      },
      "execution_count": null,
      "outputs": [
        {
          "output_type": "execute_result",
          "data": {
            "text/plain": [
              "(                        Country      lat      lng\n",
              " 0            Russian Federation  44.7444  44.2031\n",
              " 1                        Brazil  -5.2900 -44.4900\n",
              " 2                        Brazil -11.2958 -41.9869\n",
              " 3                         Italy  37.1667  15.1833\n",
              " 4                        Poland  53.0167  20.8833\n",
              " ...                         ...      ...      ...\n",
              " 16690  United States of America  37.5516 -77.3285\n",
              " 16691                  Slovakia  49.0650  18.9219\n",
              " 16692                  Slovakia  36.3385 -88.8513\n",
              " 16693                    France  48.7786   2.2906\n",
              " 16694  United States of America  40.1241 -82.9210\n",
              " \n",
              " [16695 rows x 3 columns],\n",
              " 0        Moderate\n",
              " 1            Good\n",
              " 2            Good\n",
              " 3        Moderate\n",
              " 4            Good\n",
              "            ...   \n",
              " 16690    Moderate\n",
              " 16691    Moderate\n",
              " 16692    Moderate\n",
              " 16693        Good\n",
              " 16694    Moderate\n",
              " Name: AQI Category, Length: 16695, dtype: object)"
            ]
          },
          "metadata": {},
          "execution_count": 126
        }
      ]
    },
    {
      "cell_type": "code",
      "source": [
        "y = ct_y.fit_transform(y.values.reshape(-1,1))"
      ],
      "metadata": {
        "id": "7u2uuGIbNu2n"
      },
      "execution_count": null,
      "outputs": []
    },
    {
      "cell_type": "code",
      "source": [
        "print(y.toarray())"
      ],
      "metadata": {
        "colab": {
          "base_uri": "https://localhost:8080/"
        },
        "id": "8et1sNaEOASA",
        "outputId": "fd54485d-0db8-4f2d-cf45-7f8f3a46f09b"
      },
      "execution_count": null,
      "outputs": [
        {
          "output_type": "stream",
          "name": "stdout",
          "text": [
            "[[0. 0. 1. 0. 0. 0.]\n",
            " [1. 0. 0. 0. 0. 0.]\n",
            " [1. 0. 0. 0. 0. 0.]\n",
            " ...\n",
            " [0. 0. 1. 0. 0. 0.]\n",
            " [1. 0. 0. 0. 0. 0.]\n",
            " [0. 0. 1. 0. 0. 0.]]\n"
          ]
        }
      ]
    },
    {
      "cell_type": "code",
      "source": [
        "y = y.toarray()"
      ],
      "metadata": {
        "id": "GPp8cAKFPPG0"
      },
      "execution_count": null,
      "outputs": []
    },
    {
      "cell_type": "code",
      "source": [
        "y"
      ],
      "metadata": {
        "colab": {
          "base_uri": "https://localhost:8080/"
        },
        "id": "IDvz27ZnPQN_",
        "outputId": "9fabfbd2-c113-4196-cfcb-d22ac98e2ed2"
      },
      "execution_count": null,
      "outputs": [
        {
          "output_type": "execute_result",
          "data": {
            "text/plain": [
              "array([[0., 0., 1., 0., 0., 0.],\n",
              "       [1., 0., 0., 0., 0., 0.],\n",
              "       [1., 0., 0., 0., 0., 0.],\n",
              "       ...,\n",
              "       [0., 0., 1., 0., 0., 0.],\n",
              "       [1., 0., 0., 0., 0., 0.],\n",
              "       [0., 0., 1., 0., 0., 0.]])"
            ]
          },
          "metadata": {},
          "execution_count": 130
        }
      ]
    },
    {
      "cell_type": "markdown",
      "source": [
        "## Train test split"
      ],
      "metadata": {
        "id": "wne44W8IJmZw"
      }
    },
    {
      "cell_type": "code",
      "source": [
        "# train test split\n",
        "X_train, X_test, y_train, y_test = train_test_split(X, y, test_size = 0.2, random_state = 42)\n",
        "\n",
        "# fit column transformer\n",
        "ct.fit(X_train)"
      ],
      "metadata": {
        "colab": {
          "base_uri": "https://localhost:8080/",
          "height": 171
        },
        "id": "b15G2NO5JoVR",
        "outputId": "40cfcb4e-86cc-4546-b661-5b06bb6eb423"
      },
      "execution_count": null,
      "outputs": [
        {
          "output_type": "stream",
          "name": "stderr",
          "text": [
            "/usr/local/lib/python3.10/dist-packages/sklearn/preprocessing/_encoders.py:868: FutureWarning: `sparse` was renamed to `sparse_output` in version 1.2 and will be removed in 1.4. `sparse_output` is ignored unless you leave `sparse` to its default value.\n",
            "  warnings.warn(\n"
          ]
        },
        {
          "output_type": "execute_result",
          "data": {
            "text/plain": [
              "ColumnTransformer(transformers=[('minmaxscaler', MinMaxScaler(),\n",
              "                                 ['lat', 'lng']),\n",
              "                                ('onehotencoder',\n",
              "                                 OneHotEncoder(handle_unknown='ignore',\n",
              "                                               sparse=False),\n",
              "                                 ['Country'])])"
            ],
            "text/html": [
              "<style>#sk-container-id-6 {color: black;background-color: white;}#sk-container-id-6 pre{padding: 0;}#sk-container-id-6 div.sk-toggleable {background-color: white;}#sk-container-id-6 label.sk-toggleable__label {cursor: pointer;display: block;width: 100%;margin-bottom: 0;padding: 0.3em;box-sizing: border-box;text-align: center;}#sk-container-id-6 label.sk-toggleable__label-arrow:before {content: \"▸\";float: left;margin-right: 0.25em;color: #696969;}#sk-container-id-6 label.sk-toggleable__label-arrow:hover:before {color: black;}#sk-container-id-6 div.sk-estimator:hover label.sk-toggleable__label-arrow:before {color: black;}#sk-container-id-6 div.sk-toggleable__content {max-height: 0;max-width: 0;overflow: hidden;text-align: left;background-color: #f0f8ff;}#sk-container-id-6 div.sk-toggleable__content pre {margin: 0.2em;color: black;border-radius: 0.25em;background-color: #f0f8ff;}#sk-container-id-6 input.sk-toggleable__control:checked~div.sk-toggleable__content {max-height: 200px;max-width: 100%;overflow: auto;}#sk-container-id-6 input.sk-toggleable__control:checked~label.sk-toggleable__label-arrow:before {content: \"▾\";}#sk-container-id-6 div.sk-estimator input.sk-toggleable__control:checked~label.sk-toggleable__label {background-color: #d4ebff;}#sk-container-id-6 div.sk-label input.sk-toggleable__control:checked~label.sk-toggleable__label {background-color: #d4ebff;}#sk-container-id-6 input.sk-hidden--visually {border: 0;clip: rect(1px 1px 1px 1px);clip: rect(1px, 1px, 1px, 1px);height: 1px;margin: -1px;overflow: hidden;padding: 0;position: absolute;width: 1px;}#sk-container-id-6 div.sk-estimator {font-family: monospace;background-color: #f0f8ff;border: 1px dotted black;border-radius: 0.25em;box-sizing: border-box;margin-bottom: 0.5em;}#sk-container-id-6 div.sk-estimator:hover {background-color: #d4ebff;}#sk-container-id-6 div.sk-parallel-item::after {content: \"\";width: 100%;border-bottom: 1px solid gray;flex-grow: 1;}#sk-container-id-6 div.sk-label:hover label.sk-toggleable__label {background-color: #d4ebff;}#sk-container-id-6 div.sk-serial::before {content: \"\";position: absolute;border-left: 1px solid gray;box-sizing: border-box;top: 0;bottom: 0;left: 50%;z-index: 0;}#sk-container-id-6 div.sk-serial {display: flex;flex-direction: column;align-items: center;background-color: white;padding-right: 0.2em;padding-left: 0.2em;position: relative;}#sk-container-id-6 div.sk-item {position: relative;z-index: 1;}#sk-container-id-6 div.sk-parallel {display: flex;align-items: stretch;justify-content: center;background-color: white;position: relative;}#sk-container-id-6 div.sk-item::before, #sk-container-id-6 div.sk-parallel-item::before {content: \"\";position: absolute;border-left: 1px solid gray;box-sizing: border-box;top: 0;bottom: 0;left: 50%;z-index: -1;}#sk-container-id-6 div.sk-parallel-item {display: flex;flex-direction: column;z-index: 1;position: relative;background-color: white;}#sk-container-id-6 div.sk-parallel-item:first-child::after {align-self: flex-end;width: 50%;}#sk-container-id-6 div.sk-parallel-item:last-child::after {align-self: flex-start;width: 50%;}#sk-container-id-6 div.sk-parallel-item:only-child::after {width: 0;}#sk-container-id-6 div.sk-dashed-wrapped {border: 1px dashed gray;margin: 0 0.4em 0.5em 0.4em;box-sizing: border-box;padding-bottom: 0.4em;background-color: white;}#sk-container-id-6 div.sk-label label {font-family: monospace;font-weight: bold;display: inline-block;line-height: 1.2em;}#sk-container-id-6 div.sk-label-container {text-align: center;}#sk-container-id-6 div.sk-container {/* jupyter's `normalize.less` sets `[hidden] { display: none; }` but bootstrap.min.css set `[hidden] { display: none !important; }` so we also need the `!important` here to be able to override the default hidden behavior on the sphinx rendered scikit-learn.org. See: https://github.com/scikit-learn/scikit-learn/issues/21755 */display: inline-block !important;position: relative;}#sk-container-id-6 div.sk-text-repr-fallback {display: none;}</style><div id=\"sk-container-id-6\" class=\"sk-top-container\"><div class=\"sk-text-repr-fallback\"><pre>ColumnTransformer(transformers=[(&#x27;minmaxscaler&#x27;, MinMaxScaler(),\n",
              "                                 [&#x27;lat&#x27;, &#x27;lng&#x27;]),\n",
              "                                (&#x27;onehotencoder&#x27;,\n",
              "                                 OneHotEncoder(handle_unknown=&#x27;ignore&#x27;,\n",
              "                                               sparse=False),\n",
              "                                 [&#x27;Country&#x27;])])</pre><b>In a Jupyter environment, please rerun this cell to show the HTML representation or trust the notebook. <br />On GitHub, the HTML representation is unable to render, please try loading this page with nbviewer.org.</b></div><div class=\"sk-container\" hidden><div class=\"sk-item sk-dashed-wrapped\"><div class=\"sk-label-container\"><div class=\"sk-label sk-toggleable\"><input class=\"sk-toggleable__control sk-hidden--visually\" id=\"sk-estimator-id-26\" type=\"checkbox\" ><label for=\"sk-estimator-id-26\" class=\"sk-toggleable__label sk-toggleable__label-arrow\">ColumnTransformer</label><div class=\"sk-toggleable__content\"><pre>ColumnTransformer(transformers=[(&#x27;minmaxscaler&#x27;, MinMaxScaler(),\n",
              "                                 [&#x27;lat&#x27;, &#x27;lng&#x27;]),\n",
              "                                (&#x27;onehotencoder&#x27;,\n",
              "                                 OneHotEncoder(handle_unknown=&#x27;ignore&#x27;,\n",
              "                                               sparse=False),\n",
              "                                 [&#x27;Country&#x27;])])</pre></div></div></div><div class=\"sk-parallel\"><div class=\"sk-parallel-item\"><div class=\"sk-item\"><div class=\"sk-label-container\"><div class=\"sk-label sk-toggleable\"><input class=\"sk-toggleable__control sk-hidden--visually\" id=\"sk-estimator-id-27\" type=\"checkbox\" ><label for=\"sk-estimator-id-27\" class=\"sk-toggleable__label sk-toggleable__label-arrow\">minmaxscaler</label><div class=\"sk-toggleable__content\"><pre>[&#x27;lat&#x27;, &#x27;lng&#x27;]</pre></div></div></div><div class=\"sk-serial\"><div class=\"sk-item\"><div class=\"sk-estimator sk-toggleable\"><input class=\"sk-toggleable__control sk-hidden--visually\" id=\"sk-estimator-id-28\" type=\"checkbox\" ><label for=\"sk-estimator-id-28\" class=\"sk-toggleable__label sk-toggleable__label-arrow\">MinMaxScaler</label><div class=\"sk-toggleable__content\"><pre>MinMaxScaler()</pre></div></div></div></div></div></div><div class=\"sk-parallel-item\"><div class=\"sk-item\"><div class=\"sk-label-container\"><div class=\"sk-label sk-toggleable\"><input class=\"sk-toggleable__control sk-hidden--visually\" id=\"sk-estimator-id-29\" type=\"checkbox\" ><label for=\"sk-estimator-id-29\" class=\"sk-toggleable__label sk-toggleable__label-arrow\">onehotencoder</label><div class=\"sk-toggleable__content\"><pre>[&#x27;Country&#x27;]</pre></div></div></div><div class=\"sk-serial\"><div class=\"sk-item\"><div class=\"sk-estimator sk-toggleable\"><input class=\"sk-toggleable__control sk-hidden--visually\" id=\"sk-estimator-id-30\" type=\"checkbox\" ><label for=\"sk-estimator-id-30\" class=\"sk-toggleable__label sk-toggleable__label-arrow\">OneHotEncoder</label><div class=\"sk-toggleable__content\"><pre>OneHotEncoder(handle_unknown=&#x27;ignore&#x27;, sparse=False)</pre></div></div></div></div></div></div></div></div></div></div>"
            ]
          },
          "metadata": {},
          "execution_count": 131
        }
      ]
    },
    {
      "cell_type": "code",
      "source": [
        "# transform train and test data\n",
        "X_train_normal = ct.transform(X_train)\n",
        "X_test_normal = ct.transform(X_test)"
      ],
      "metadata": {
        "id": "QTG4v_yFLAke"
      },
      "execution_count": null,
      "outputs": []
    },
    {
      "cell_type": "code",
      "source": [
        "X_train_normal[0]"
      ],
      "metadata": {
        "colab": {
          "base_uri": "https://localhost:8080/"
        },
        "id": "CWyMlG-aLCY8",
        "outputId": "b533062b-9952-47f7-93c5-2bbd0e4e191f"
      },
      "execution_count": null,
      "outputs": [
        {
          "output_type": "execute_result",
          "data": {
            "text/plain": [
              "array([0.28133349, 0.90145519, 0.        , 0.        , 0.        ,\n",
              "       0.        , 0.        , 0.        , 0.        , 0.        ,\n",
              "       0.        , 0.        , 0.        , 0.        , 0.        ,\n",
              "       0.        , 0.        , 0.        , 0.        , 0.        ,\n",
              "       0.        , 0.        , 0.        , 0.        , 0.        ,\n",
              "       0.        , 0.        , 0.        , 0.        , 0.        ,\n",
              "       0.        , 0.        , 0.        , 0.        , 0.        ,\n",
              "       0.        , 0.        , 0.        , 0.        , 0.        ,\n",
              "       0.        , 0.        , 0.        , 0.        , 0.        ,\n",
              "       0.        , 0.        , 0.        , 0.        , 0.        ,\n",
              "       0.        , 0.        , 0.        , 0.        , 0.        ,\n",
              "       0.        , 0.        , 0.        , 0.        , 0.        ,\n",
              "       0.        , 0.        , 0.        , 0.        , 0.        ,\n",
              "       1.        , 0.        , 0.        , 0.        , 0.        ,\n",
              "       0.        , 0.        , 0.        , 0.        , 0.        ,\n",
              "       0.        , 0.        , 0.        , 0.        , 0.        ,\n",
              "       0.        , 0.        , 0.        , 0.        , 0.        ,\n",
              "       0.        , 0.        , 0.        , 0.        , 0.        ,\n",
              "       0.        , 0.        , 0.        , 0.        , 0.        ,\n",
              "       0.        , 0.        , 0.        , 0.        , 0.        ,\n",
              "       0.        , 0.        , 0.        , 0.        , 0.        ,\n",
              "       0.        , 0.        , 0.        , 0.        , 0.        ,\n",
              "       0.        , 0.        , 0.        , 0.        , 0.        ,\n",
              "       0.        , 0.        , 0.        , 0.        , 0.        ,\n",
              "       0.        , 0.        , 0.        , 0.        , 0.        ,\n",
              "       0.        , 0.        , 0.        , 0.        , 0.        ,\n",
              "       0.        , 0.        , 0.        , 0.        , 0.        ,\n",
              "       0.        , 0.        , 0.        , 0.        , 0.        ,\n",
              "       0.        , 0.        , 0.        , 0.        , 0.        ,\n",
              "       0.        , 0.        , 0.        , 0.        , 0.        ,\n",
              "       0.        , 0.        , 0.        , 0.        , 0.        ,\n",
              "       0.        , 0.        , 0.        , 0.        , 0.        ,\n",
              "       0.        , 0.        , 0.        , 0.        , 0.        ,\n",
              "       0.        , 0.        , 0.        , 0.        , 0.        ,\n",
              "       0.        , 0.        ])"
            ]
          },
          "metadata": {},
          "execution_count": 133
        }
      ]
    },
    {
      "cell_type": "code",
      "source": [
        "X_test_normal[0]"
      ],
      "metadata": {
        "colab": {
          "base_uri": "https://localhost:8080/"
        },
        "id": "DPWG-QuZLEpQ",
        "outputId": "a80565fd-fc10-4752-86f4-62a1e617a782"
      },
      "execution_count": null,
      "outputs": [
        {
          "output_type": "execute_result",
          "data": {
            "text/plain": [
              "array([0.84986327, 0.50387714, 0.        , 0.        , 0.        ,\n",
              "       0.        , 0.        , 0.        , 0.        , 0.        ,\n",
              "       0.        , 0.        , 0.        , 0.        , 0.        ,\n",
              "       0.        , 0.        , 0.        , 0.        , 0.        ,\n",
              "       0.        , 0.        , 0.        , 0.        , 0.        ,\n",
              "       0.        , 0.        , 0.        , 0.        , 0.        ,\n",
              "       0.        , 0.        , 0.        , 0.        , 0.        ,\n",
              "       0.        , 0.        , 0.        , 0.        , 0.        ,\n",
              "       0.        , 0.        , 0.        , 0.        , 0.        ,\n",
              "       0.        , 0.        , 0.        , 0.        , 0.        ,\n",
              "       0.        , 0.        , 0.        , 0.        , 0.        ,\n",
              "       0.        , 0.        , 0.        , 0.        , 0.        ,\n",
              "       0.        , 0.        , 0.        , 0.        , 0.        ,\n",
              "       0.        , 0.        , 0.        , 0.        , 0.        ,\n",
              "       0.        , 0.        , 0.        , 0.        , 0.        ,\n",
              "       0.        , 0.        , 0.        , 0.        , 0.        ,\n",
              "       0.        , 0.        , 0.        , 0.        , 0.        ,\n",
              "       0.        , 0.        , 0.        , 0.        , 0.        ,\n",
              "       0.        , 0.        , 0.        , 0.        , 0.        ,\n",
              "       0.        , 0.        , 0.        , 0.        , 0.        ,\n",
              "       0.        , 0.        , 0.        , 0.        , 0.        ,\n",
              "       0.        , 0.        , 0.        , 0.        , 1.        ,\n",
              "       0.        , 0.        , 0.        , 0.        , 0.        ,\n",
              "       0.        , 0.        , 0.        , 0.        , 0.        ,\n",
              "       0.        , 0.        , 0.        , 0.        , 0.        ,\n",
              "       0.        , 0.        , 0.        , 0.        , 0.        ,\n",
              "       0.        , 0.        , 0.        , 0.        , 0.        ,\n",
              "       0.        , 0.        , 0.        , 0.        , 0.        ,\n",
              "       0.        , 0.        , 0.        , 0.        , 0.        ,\n",
              "       0.        , 0.        , 0.        , 0.        , 0.        ,\n",
              "       0.        , 0.        , 0.        , 0.        , 0.        ,\n",
              "       0.        , 0.        , 0.        , 0.        , 0.        ,\n",
              "       0.        , 0.        , 0.        , 0.        , 0.        ,\n",
              "       0.        , 0.        , 0.        , 0.        , 0.        ,\n",
              "       0.        , 0.        ])"
            ]
          },
          "metadata": {},
          "execution_count": 134
        }
      ]
    },
    {
      "cell_type": "markdown",
      "source": [
        "## Build a neural network"
      ],
      "metadata": {
        "id": "tn9fDxxXOcvo"
      }
    },
    {
      "cell_type": "code",
      "source": [
        "# create model\n",
        "model_1 = tf.keras.Sequential([\n",
        "    tf.keras.layers.Dense(3, activation = \"relu\"),\n",
        "    tf.keras.layers.Dense(3, activation = \"relu\"),\n",
        "    tf.keras.layers.Dense(3, activation = \"relu\"),\n",
        "    tf.keras.layers.Dense(6, activation = \"softmax\")\n",
        "])\n",
        "\n",
        "# compile the model\n",
        "model_1.compile(loss = \"categorical_crossentropy\",\n",
        "              optimizer = tf.keras.optimizers.Adam(),\n",
        "              metrics = [\"accuracy\"])\n",
        "\n",
        "# fit the model\n",
        "history_1 = model_1.fit(X_train_normal, y_train, epochs = 50)"
      ],
      "metadata": {
        "colab": {
          "base_uri": "https://localhost:8080/"
        },
        "id": "LQtEf8OXLi6g",
        "outputId": "9cfd7dbc-48cc-4b49-f83f-8771a7ad741a"
      },
      "execution_count": null,
      "outputs": [
        {
          "output_type": "stream",
          "name": "stdout",
          "text": [
            "Epoch 1/50\n",
            "418/418 [==============================] - 1s 1ms/step - loss: 1.6009 - accuracy: 0.4561\n",
            "Epoch 2/50\n",
            "418/418 [==============================] - 1s 1ms/step - loss: 1.2378 - accuracy: 0.4254\n",
            "Epoch 3/50\n",
            "418/418 [==============================] - 1s 2ms/step - loss: 1.0769 - accuracy: 0.5219\n",
            "Epoch 4/50\n",
            "418/418 [==============================] - 1s 1ms/step - loss: 1.0050 - accuracy: 0.5541\n",
            "Epoch 5/50\n",
            "418/418 [==============================] - 1s 1ms/step - loss: 0.9321 - accuracy: 0.5919\n",
            "Epoch 6/50\n",
            "418/418 [==============================] - 1s 1ms/step - loss: 0.8831 - accuracy: 0.6168\n",
            "Epoch 7/50\n",
            "418/418 [==============================] - 1s 2ms/step - loss: 0.8641 - accuracy: 0.6272\n",
            "Epoch 8/50\n",
            "418/418 [==============================] - 1s 2ms/step - loss: 0.8554 - accuracy: 0.6267\n",
            "Epoch 9/50\n",
            "418/418 [==============================] - 1s 2ms/step - loss: 0.8503 - accuracy: 0.6286\n",
            "Epoch 10/50\n",
            "418/418 [==============================] - 1s 3ms/step - loss: 0.8473 - accuracy: 0.6286\n",
            "Epoch 11/50\n",
            "418/418 [==============================] - 1s 3ms/step - loss: 0.8442 - accuracy: 0.6292\n",
            "Epoch 12/50\n",
            "418/418 [==============================] - 1s 3ms/step - loss: 0.8420 - accuracy: 0.6304\n",
            "Epoch 13/50\n",
            "418/418 [==============================] - 1s 3ms/step - loss: 0.8407 - accuracy: 0.6298\n",
            "Epoch 14/50\n",
            "418/418 [==============================] - 1s 2ms/step - loss: 0.8394 - accuracy: 0.6289\n",
            "Epoch 15/50\n",
            "418/418 [==============================] - 1s 3ms/step - loss: 0.8383 - accuracy: 0.6301\n",
            "Epoch 16/50\n",
            "418/418 [==============================] - 1s 3ms/step - loss: 0.8371 - accuracy: 0.6303\n",
            "Epoch 17/50\n",
            "418/418 [==============================] - 1s 2ms/step - loss: 0.8369 - accuracy: 0.6308\n",
            "Epoch 18/50\n",
            "418/418 [==============================] - 1s 3ms/step - loss: 0.8353 - accuracy: 0.6298\n",
            "Epoch 19/50\n",
            "418/418 [==============================] - 1s 2ms/step - loss: 0.8349 - accuracy: 0.6292\n",
            "Epoch 20/50\n",
            "418/418 [==============================] - 1s 2ms/step - loss: 0.8339 - accuracy: 0.6292\n",
            "Epoch 21/50\n",
            "418/418 [==============================] - 1s 2ms/step - loss: 0.8342 - accuracy: 0.6281\n",
            "Epoch 22/50\n",
            "418/418 [==============================] - 1s 2ms/step - loss: 0.8331 - accuracy: 0.6307\n",
            "Epoch 23/50\n",
            "418/418 [==============================] - 1s 3ms/step - loss: 0.8327 - accuracy: 0.6316\n",
            "Epoch 24/50\n",
            "418/418 [==============================] - 1s 3ms/step - loss: 0.8325 - accuracy: 0.6305\n",
            "Epoch 25/50\n",
            "418/418 [==============================] - 1s 2ms/step - loss: 0.8324 - accuracy: 0.6305\n",
            "Epoch 26/50\n",
            "418/418 [==============================] - 1s 1ms/step - loss: 0.8316 - accuracy: 0.6311\n",
            "Epoch 27/50\n",
            "418/418 [==============================] - 1s 1ms/step - loss: 0.8312 - accuracy: 0.6295\n",
            "Epoch 28/50\n",
            "418/418 [==============================] - 1s 1ms/step - loss: 0.8311 - accuracy: 0.6312\n",
            "Epoch 29/50\n",
            "418/418 [==============================] - 1s 1ms/step - loss: 0.8307 - accuracy: 0.6277\n",
            "Epoch 30/50\n",
            "418/418 [==============================] - 1s 1ms/step - loss: 0.8302 - accuracy: 0.6309\n",
            "Epoch 31/50\n",
            "418/418 [==============================] - 1s 1ms/step - loss: 0.8302 - accuracy: 0.6282\n",
            "Epoch 32/50\n",
            "418/418 [==============================] - 1s 1ms/step - loss: 0.8299 - accuracy: 0.6295\n",
            "Epoch 33/50\n",
            "418/418 [==============================] - 1s 1ms/step - loss: 0.8298 - accuracy: 0.6308\n",
            "Epoch 34/50\n",
            "418/418 [==============================] - 1s 1ms/step - loss: 0.8300 - accuracy: 0.6316\n",
            "Epoch 35/50\n",
            "418/418 [==============================] - 1s 1ms/step - loss: 0.8291 - accuracy: 0.6286\n",
            "Epoch 36/50\n",
            "418/418 [==============================] - 1s 1ms/step - loss: 0.8296 - accuracy: 0.6282\n",
            "Epoch 37/50\n",
            "418/418 [==============================] - 1s 1ms/step - loss: 0.8288 - accuracy: 0.6295\n",
            "Epoch 38/50\n",
            "418/418 [==============================] - 1s 1ms/step - loss: 0.8289 - accuracy: 0.6304\n",
            "Epoch 39/50\n",
            "418/418 [==============================] - 1s 1ms/step - loss: 0.8286 - accuracy: 0.6289\n",
            "Epoch 40/50\n",
            "418/418 [==============================] - 1s 1ms/step - loss: 0.8283 - accuracy: 0.6312\n",
            "Epoch 41/50\n",
            "418/418 [==============================] - 1s 1ms/step - loss: 0.8283 - accuracy: 0.6298\n",
            "Epoch 42/50\n",
            "418/418 [==============================] - 1s 2ms/step - loss: 0.8282 - accuracy: 0.6290\n",
            "Epoch 43/50\n",
            "418/418 [==============================] - 1s 2ms/step - loss: 0.8285 - accuracy: 0.6286\n",
            "Epoch 44/50\n",
            "418/418 [==============================] - 1s 2ms/step - loss: 0.8285 - accuracy: 0.6292\n",
            "Epoch 45/50\n",
            "418/418 [==============================] - 1s 2ms/step - loss: 0.8282 - accuracy: 0.6301\n",
            "Epoch 46/50\n",
            "418/418 [==============================] - 1s 1ms/step - loss: 0.8282 - accuracy: 0.6294\n",
            "Epoch 47/50\n",
            "418/418 [==============================] - 1s 1ms/step - loss: 0.8274 - accuracy: 0.6298\n",
            "Epoch 48/50\n",
            "418/418 [==============================] - 1s 1ms/step - loss: 0.8278 - accuracy: 0.6298\n",
            "Epoch 49/50\n",
            "418/418 [==============================] - 1s 1ms/step - loss: 0.8274 - accuracy: 0.6317\n",
            "Epoch 50/50\n",
            "418/418 [==============================] - 1s 1ms/step - loss: 0.8274 - accuracy: 0.6287\n"
          ]
        }
      ]
    },
    {
      "cell_type": "code",
      "source": [
        "model_1.predict(X_test_normal)"
      ],
      "metadata": {
        "colab": {
          "base_uri": "https://localhost:8080/"
        },
        "id": "QpyRI5JNPoM5",
        "outputId": "c7206d9f-ea6c-43a1-9592-5d0573129c16"
      },
      "execution_count": null,
      "outputs": [
        {
          "output_type": "stream",
          "name": "stdout",
          "text": [
            "105/105 [==============================] - 0s 878us/step\n"
          ]
        },
        {
          "output_type": "execute_result",
          "data": {
            "text/plain": [
              "array([[9.20302272e-01, 3.09122363e-08, 7.90052563e-02, 1.37291254e-05,\n",
              "        6.77800155e-04, 9.90551371e-07],\n",
              "       [2.01845139e-01, 6.68098358e-03, 4.59002405e-01, 1.49566099e-01,\n",
              "        1.62128091e-01, 2.07772236e-02],\n",
              "       [8.10487429e-04, 9.68123134e-03, 8.49578381e-02, 6.29599810e-01,\n",
              "        2.50700235e-01, 2.42503155e-02],\n",
              "       ...,\n",
              "       [6.78737938e-01, 9.16887893e-06, 3.05846542e-01, 1.39284309e-03,\n",
              "        1.38986325e-02, 1.14934053e-04],\n",
              "       [7.83074573e-02, 4.82441299e-02, 2.37234116e-01, 3.87500942e-01,\n",
              "        1.68373927e-01, 8.03394541e-02],\n",
              "       [5.72751641e-01, 3.21804539e-09, 4.23262864e-01, 2.51457222e-05,\n",
              "        3.96009721e-03, 3.18402925e-07]], dtype=float32)"
            ]
          },
          "metadata": {},
          "execution_count": 136
        }
      ]
    },
    {
      "cell_type": "code",
      "source": [
        "model_1.evaluate(X_test_normal, y_test)"
      ],
      "metadata": {
        "colab": {
          "base_uri": "https://localhost:8080/"
        },
        "id": "G7WS_rTZV-gE",
        "outputId": "0f29dce8-ee57-4799-8e8c-74232c60d5c5"
      },
      "execution_count": null,
      "outputs": [
        {
          "output_type": "stream",
          "name": "stdout",
          "text": [
            "105/105 [==============================] - 0s 1ms/step - loss: 0.8226 - accuracy: 0.6427\n"
          ]
        },
        {
          "output_type": "execute_result",
          "data": {
            "text/plain": [
              "[0.82264244556427, 0.6427074074745178]"
            ]
          },
          "metadata": {},
          "execution_count": 137
        }
      ]
    },
    {
      "cell_type": "code",
      "source": [
        "pip install -U keras-tuner"
      ],
      "metadata": {
        "colab": {
          "base_uri": "https://localhost:8080/"
        },
        "id": "6CMVaXNyY3hC",
        "outputId": "800c1a8c-9b6e-4ae3-bab2-c70dae1d0679"
      },
      "execution_count": null,
      "outputs": [
        {
          "output_type": "stream",
          "name": "stdout",
          "text": [
            "Requirement already satisfied: keras-tuner in /usr/local/lib/python3.10/dist-packages (1.3.5)\n",
            "Requirement already satisfied: packaging in /usr/local/lib/python3.10/dist-packages (from keras-tuner) (23.1)\n",
            "Requirement already satisfied: requests in /usr/local/lib/python3.10/dist-packages (from keras-tuner) (2.27.1)\n",
            "Requirement already satisfied: kt-legacy in /usr/local/lib/python3.10/dist-packages (from keras-tuner) (1.0.5)\n",
            "Requirement already satisfied: urllib3<1.27,>=1.21.1 in /usr/local/lib/python3.10/dist-packages (from requests->keras-tuner) (1.26.16)\n",
            "Requirement already satisfied: certifi>=2017.4.17 in /usr/local/lib/python3.10/dist-packages (from requests->keras-tuner) (2023.5.7)\n",
            "Requirement already satisfied: charset-normalizer~=2.0.0 in /usr/local/lib/python3.10/dist-packages (from requests->keras-tuner) (2.0.12)\n",
            "Requirement already satisfied: idna<4,>=2.5 in /usr/local/lib/python3.10/dist-packages (from requests->keras-tuner) (3.4)\n"
          ]
        }
      ]
    },
    {
      "cell_type": "code",
      "source": [
        "from tensorflow import keras\n",
        "from tensorflow.keras import layers\n",
        "from kerastuner.tuners import RandomSearch"
      ],
      "metadata": {
        "id": "N-PQwh4cY-0d"
      },
      "execution_count": null,
      "outputs": []
    },
    {
      "cell_type": "code",
      "source": [
        "def build_model_function(hp):\n",
        "    model = keras.Sequential()\n",
        "    model.add(layers.Dense(units=hp.Int('units', min_value=2,\n",
        "                           max_value=128, step=32), activation='relu'))\n",
        "    model.add(layers.Dense(units=hp.Int('units', min_value=4,\n",
        "                           max_value=64, step=32), activation='relu'))\n",
        "    model.add(layers.Dense(units=hp.Int('units', min_value=2,\n",
        "                           max_value=128, step=32), activation='relu'))\n",
        "    model.add(layers.Dense(6, activation='softmax'))\n",
        "    model.compile(optimizer=keras.optimizers.Adam(\n",
        "        hp.Choice('learning_rate',values=[0.001])),\n",
        "        loss='categorical_crossentropy',\n",
        "        metrics=['accuracy'])\n",
        "    return model"
      ],
      "metadata": {
        "id": "plwDHcAFZFzZ"
      },
      "execution_count": 150,
      "outputs": []
    },
    {
      "cell_type": "code",
      "source": [
        "tuner = RandomSearch(\n",
        "    build_model_function,\n",
        "    objective='val_accuracy',\n",
        "    max_trials=10,\n",
        "    executions_per_trial=3,\n",
        "    directory='my_dir3',\n",
        "    project_name='helloworld')\n",
        "# You can print a summary of the search space:\n",
        "tuner.search_space_summary()\n",
        "# The call to search has the same signature as model.fit()\n",
        "tuner.search(X_train_normal, y_train, epochs=5, validation_data=(X_test_normal, y_test))\n",
        "# When search is over, you can retrieve the best model(s):\n",
        "models = tuner.get_best_models(num_models=2)\n",
        "# Or print a summary of the results:\n",
        "tuner.results_summary()"
      ],
      "metadata": {
        "colab": {
          "base_uri": "https://localhost:8080/"
        },
        "id": "5caOrJODb1aw",
        "outputId": "16b08d0d-fd4f-4575-c617-91ffa8f3c83b"
      },
      "execution_count": 151,
      "outputs": [
        {
          "output_type": "stream",
          "name": "stdout",
          "text": [
            "Trial 4 Complete [00h 00m 17s]\n",
            "val_accuracy: 0.6435060302416483\n",
            "\n",
            "Best val_accuracy So Far: 0.6435060302416483\n",
            "Total elapsed time: 00h 01m 05s\n",
            "Results summary\n",
            "Results in my_dir3/helloworld\n",
            "Showing 10 best trials\n",
            "Objective(name=\"val_accuracy\", direction=\"max\")\n",
            "\n",
            "Trial 03 summary\n",
            "Hyperparameters:\n",
            "units: 34\n",
            "learning_rate: 0.001\n",
            "Score: 0.6435060302416483\n",
            "\n",
            "Trial 02 summary\n",
            "Hyperparameters:\n",
            "units: 66\n",
            "learning_rate: 0.001\n",
            "Score: 0.6434062123298645\n",
            "\n",
            "Trial 00 summary\n",
            "Hyperparameters:\n",
            "units: 98\n",
            "learning_rate: 0.001\n",
            "Score: 0.6426075498263041\n",
            "\n",
            "Trial 01 summary\n",
            "Hyperparameters:\n",
            "units: 2\n",
            "learning_rate: 0.001\n",
            "Score: 0.4817809859911601\n"
          ]
        }
      ]
    },
    {
      "cell_type": "markdown",
      "source": [
        "**Note**:\n",
        "Got 64% of accuracy for predicting 6 different Air Quality Categories"
      ],
      "metadata": {
        "id": "Cj8wB6ajpWIJ"
      }
    }
  ]
}